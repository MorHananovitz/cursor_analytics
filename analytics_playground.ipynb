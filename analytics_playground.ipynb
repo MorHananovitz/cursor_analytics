{
 "cells": [
  {
   "cell_type": "markdown",
   "metadata": {},
   "source": [
    "## Analytical Playground \n"
   ]
  },
  {
   "cell_type": "markdown",
   "metadata": {},
   "source": [
    "### Run Those cells one-by-one"
   ]
  },
  {
   "cell_type": "code",
   "execution_count": 4,
   "metadata": {},
   "outputs": [],
   "source": [
    "import sys\n",
    "import os\n",
    "\n",
    "# Get the path to the virtual environment\n",
    "venv_path = os.path.join(os.getcwd(), 'venv')\n",
    "\n",
    "# Add the virtual environment's site-packages to the Python path\n",
    "site_packages = os.path.join(venv_path, 'lib', f'python{sys.version_info.major}.{sys.version_info.minor}', 'site-packages')\n",
    "sys.path.append(site_packages)\n",
    "\n",
    "# Set the Python executable to use the virtual environment\n",
    "os.environ['VIRTUAL_ENV'] = venv_path\n",
    "os.environ['PATH'] = f\"{os.path.join(venv_path, 'bin')}:{os.environ['PATH']}\"\n"
   ]
  },
  {
   "cell_type": "code",
   "execution_count": 5,
   "metadata": {},
   "outputs": [],
   "source": [
    "import pandas as pd\n",
    "import numpy as np\n",
    "import matplotlib.pyplot as plt\n",
    "import seaborn as sns\n",
    "\n",
    "from curser_analytics.db.connection import get_mysql_connection, get_postgres_connection, get_snowflake_connection\n",
    "from curser_analytics.db.connection import DatabaseConnection\n",
    "# Environment variables should be loaded by the Makefile or system"
   ]
  },
  {
   "cell_type": "code",
   "execution_count": null,
   "metadata": {},
   "outputs": [],
   "source": [
    "mysql_conn = get_mysql_connection() # replace with postgres_conn or snowflake_conn as needed\n",
    "\n",
    "if mysql_conn.connect():\n",
    "    print(\"Successfully connected to MySQL database\")\n",
    "else:\n",
    "    print(\"Failed to connect to MySQL database\")"
   ]
  },
  {
   "cell_type": "code",
   "execution_count": null,
   "metadata": {},
   "outputs": [],
   "source": []
  },
  {
   "cell_type": "markdown",
   "metadata": {},
   "source": [
    "### Your query here:"
   ]
  },
  {
   "cell_type": "code",
   "execution_count": 16,
   "metadata": {},
   "outputs": [],
   "source": [
    "query = \"\"\"\n",
    "Quesions?\n",
    "\"\"\""
   ]
  },
  {
   "cell_type": "code",
   "execution_count": null,
   "metadata": {},
   "outputs": [],
   "source": []
  },
  {
   "cell_type": "code",
   "execution_count": null,
   "metadata": {},
   "outputs": [],
   "source": [
    "# Execute the query and store results in a DataFrame\n",
    "df = mysql_conn.execute_query(query)\n",
    "df"
   ]
  },
  {
   "cell_type": "code",
   "execution_count": null,
   "metadata": {},
   "outputs": [],
   "source": []
  },
  {
   "cell_type": "code",
   "execution_count": null,
   "metadata": {},
   "outputs": [],
   "source": [
    "df.info()"
   ]
  },
  {
   "cell_type": "markdown",
   "metadata": {},
   "source": [
    "### Your analysis here"
   ]
  },
  {
   "cell_type": "code",
   "execution_count": null,
   "metadata": {},
   "outputs": [],
   "source": [
    "import matplotlib.pyplot as plt\n",
    "import seaborn as sns\n",
    "\n",
    "# Set a style for the plot\n",
    "plt.style.use('seaborn-v0_8-whitegrid')\n",
    "\n",
    "# Create the bar plot\n",
    "plt.figure(figsize=(8, 6))\n",
    "sns.barplot(x='IsActive', y='NumberOfPackages', data=df, palette=['#ff9999','#66b3ff'])\n",
    "\n",
    "# Add titles and labels\n",
    "plt.title('Number of Customer Packages by Active Status', fontsize=16)\n",
    "plt.xlabel('IsActive (0 = Inactive, 1 = Active)', fontsize=12)\n",
    "plt.ylabel('Number of Packages', fontsize=12)\n",
    "plt.xticks(ticks=[0, 1], labels=['Inactive (0)', 'Active (1)']) # Ensure x-axis labels are clear\n",
    "\n",
    "# Add data labels on top of bars\n",
    "for index, row in df.iterrows():\n",
    "    plt.text(index, row['NumberOfPackages'] + 20, str(row['NumberOfPackages']), \n",
    "             color='black', ha=\"center\", va=\"bottom\", fontsize=10)\n",
    "\n",
    "# Show the plot\n",
    "plt.tight_layout()\n",
    "plt.show()\n"
   ]
  }
 ],
 "metadata": {
  "kernelspec": {
   "display_name": "venv",
   "language": "python",
   "name": "python3"
  },
  "language_info": {
   "codemirror_mode": {
    "name": "ipython",
    "version": 3
   },
   "file_extension": ".py",
   "mimetype": "text/x-python",
   "name": "python",
   "nbconvert_exporter": "python",
   "pygments_lexer": "ipython3",
   "version": "3.9.6"
  }
 },
 "nbformat": 4,
 "nbformat_minor": 2
}
