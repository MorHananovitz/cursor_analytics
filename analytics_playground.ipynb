{
 "cells": [
  {
   "cell_type": "markdown",
   "metadata": {},
   "source": [
    "## Analytical Playground \n"
   ]
  },
  {
   "cell_type": "markdown",
   "metadata": {},
   "source": [
    "### Run Those cells one-by-one"
   ]
  },
  {
   "cell_type": "code",
   "execution_count": 1,
   "metadata": {},
   "outputs": [],
   "source": [
    "import sys\n",
    "import os\n",
    "\n",
    "# Get the path to the virtual environment\n",
    "venv_path = os.path.join(os.getcwd(), 'venv')\n",
    "\n",
    "# Add the virtual environment's site-packages to the Python path\n",
    "site_packages = os.path.join(venv_path, 'lib', f'python{sys.version_info.major}.{sys.version_info.minor}', 'site-packages')\n",
    "sys.path.append(site_packages)\n",
    "\n",
    "# Set the Python executable to use the virtual environment\n",
    "os.environ['VIRTUAL_ENV'] = venv_path\n",
    "os.environ['PATH'] = f\"{os.path.join(venv_path, 'bin')}:{os.environ['PATH']}\"\n"
   ]
  },
  {
   "cell_type": "code",
   "execution_count": 2,
   "metadata": {},
   "outputs": [],
   "source": [
    "import pandas as pd\n",
    "import numpy as np\n",
    "import matplotlib.pyplot as plt\n",
    "import seaborn as sns\n",
    "\n",
    "from cursor_analytics.db.connection import get_mysql_connection, get_postgres_connection, get_snowflake_connection\n",
    "from cursor_analytics.db.connection import DatabaseConnection\n",
    "# Environment variables should be loaded by the Makefile or system"
   ]
  },
  {
   "cell_type": "code",
   "execution_count": null,
   "metadata": {},
   "outputs": [],
   "source": [
    "mysql_conn = get_mysql_connection() # replace with postgres_conn or snowflake_conn as needed\n",
    "\n",
    "if mysql_conn.connect():\n",
    "    print(\"Successfully connected to MySQL database\")\n",
    "else:\n",
    "    print(\"Failed to connect to MySQL database\")"
   ]
  },
  {
   "cell_type": "markdown",
   "metadata": {},
   "source": [
    "### Your query here:"
   ]
  },
  {
   "cell_type": "code",
   "execution_count": 6,
   "metadata": {},
   "outputs": [],
   "source": [
    "query = \"\"\"\n",
    "select * from stm.customerpackages limit 10\n",
    "\"\"\""
   ]
  },
  {
   "cell_type": "code",
   "execution_count": null,
   "metadata": {},
   "outputs": [],
   "source": [
    "# Execute the query and store results in a DataFrame\n",
    "df = mysql_conn.execute_query(query)\n",
    "df"
   ]
  },
  {
   "cell_type": "code",
   "execution_count": null,
   "metadata": {},
   "outputs": [],
   "source": [
    "df.info()"
   ]
  },
  {
   "cell_type": "markdown",
   "metadata": {},
   "source": [
    "### Your analysis here"
   ]
  },
  {
   "cell_type": "code",
   "execution_count": null,
   "metadata": {},
   "outputs": [],
   "source": []
  }
 ],
 "metadata": {
  "kernelspec": {
   "display_name": "venv",
   "language": "python",
   "name": "python3"
  },
  "language_info": {
   "codemirror_mode": {
    "name": "ipython",
    "version": 3
   },
   "file_extension": ".py",
   "mimetype": "text/x-python",
   "name": "python",
   "nbconvert_exporter": "python",
   "pygments_lexer": "ipython3",
   "version": "3.9.6"
  }
 },
 "nbformat": 4,
 "nbformat_minor": 2
}
